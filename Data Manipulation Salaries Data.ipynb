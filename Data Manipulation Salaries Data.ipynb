{
 "cells": [
  {
   "cell_type": "markdown",
   "id": "460cd0ef-b9e2-4b06-bb79-d4cf6aa215bf",
   "metadata": {},
   "source": [
    "# Domain - HR"
   ]
  },
  {
   "cell_type": "markdown",
   "id": "06dc539d-d424-49ee-bf20-1510f89d812e",
   "metadata": {},
   "source": [
    "## Focus - Insights from data"
   ]
  },
  {
   "cell_type": "markdown",
   "id": "b0b19e69-1586-4901-8662-b4cc9f7535fc",
   "metadata": {},
   "source": [
    "#### 1) Compute how much total salary cost has increased from year 2011 to 2014"
   ]
  },
  {
   "cell_type": "code",
   "execution_count": 4,
   "id": "74fdc6cb-8d0c-42da-8b67-2b2dfd06dabf",
   "metadata": {},
   "outputs": [],
   "source": [
    "# Import Libraries \n",
    "import pandas as pd\n",
    "import numpy as np \n",
    "import matplotlib.pyplot as plt\n",
    "import os"
   ]
  },
  {
   "cell_type": "code",
   "execution_count": 6,
   "id": "4a436793-5906-402a-a084-4af8d43388d8",
   "metadata": {},
   "outputs": [
    {
     "data": {
      "text/plain": [
       "'C:\\\\Users\\\\HP'"
      ]
     },
     "execution_count": 6,
     "metadata": {},
     "output_type": "execute_result"
    }
   ],
   "source": [
    "# Load Data set \n",
    "os.getcwd()"
   ]
  },
  {
   "cell_type": "code",
   "execution_count": 8,
   "id": "c3d91e80-3a55-48a1-ace2-8a36999fd76d",
   "metadata": {},
   "outputs": [],
   "source": [
    "os.chdir('C:\\\\Users\\\\HP\\\\Downloads\\\\Prajwal Data Analyst Data\\\\Prajwal UK\\\\')"
   ]
  },
  {
   "cell_type": "code",
   "execution_count": 10,
   "id": "64a386d8-1db1-4573-9c16-ab488b614ce0",
   "metadata": {},
   "outputs": [
    {
     "name": "stdout",
     "output_type": "stream",
     "text": [
      "C:\\Users\\HP\\Downloads\\Prajwal Data Analyst Data\\Prajwal UK\n"
     ]
    }
   ],
   "source": [
    "print (os.getcwd())"
   ]
  },
  {
   "cell_type": "code",
   "execution_count": 14,
   "id": "33557d4c-632b-455c-ac3d-094059e1ee72",
   "metadata": {},
   "outputs": [
    {
     "name": "stderr",
     "output_type": "stream",
     "text": [
      "C:\\Users\\HP\\AppData\\Local\\Temp\\ipykernel_13024\\2353960977.py:1: DtypeWarning: Columns (12) have mixed types. Specify dtype option on import or set low_memory=False.\n",
      "  salary = pd.read_csv('Salaries.csv')\n"
     ]
    },
    {
     "data": {
      "text/html": [
       "<div>\n",
       "<style scoped>\n",
       "    .dataframe tbody tr th:only-of-type {\n",
       "        vertical-align: middle;\n",
       "    }\n",
       "\n",
       "    .dataframe tbody tr th {\n",
       "        vertical-align: top;\n",
       "    }\n",
       "\n",
       "    .dataframe thead th {\n",
       "        text-align: right;\n",
       "    }\n",
       "</style>\n",
       "<table border=\"1\" class=\"dataframe\">\n",
       "  <thead>\n",
       "    <tr style=\"text-align: right;\">\n",
       "      <th></th>\n",
       "      <th>Id</th>\n",
       "      <th>EmployeeName</th>\n",
       "      <th>JobTitle</th>\n",
       "      <th>BasePay</th>\n",
       "      <th>OvertimePay</th>\n",
       "      <th>OtherPay</th>\n",
       "      <th>Benefits</th>\n",
       "      <th>TotalPay</th>\n",
       "      <th>TotalPayBenefits</th>\n",
       "      <th>Year</th>\n",
       "      <th>Notes</th>\n",
       "      <th>Agency</th>\n",
       "      <th>Status</th>\n",
       "    </tr>\n",
       "  </thead>\n",
       "  <tbody>\n",
       "    <tr>\n",
       "      <th>0</th>\n",
       "      <td>1</td>\n",
       "      <td>NATHANIEL FORD</td>\n",
       "      <td>GENERAL MANAGER-METROPOLITAN TRANSIT AUTHORITY</td>\n",
       "      <td>167411.18</td>\n",
       "      <td>0.00</td>\n",
       "      <td>400184.25</td>\n",
       "      <td>NaN</td>\n",
       "      <td>567595.43</td>\n",
       "      <td>567595.43</td>\n",
       "      <td>2011</td>\n",
       "      <td>NaN</td>\n",
       "      <td>San Francisco</td>\n",
       "      <td>NaN</td>\n",
       "    </tr>\n",
       "    <tr>\n",
       "      <th>1</th>\n",
       "      <td>2</td>\n",
       "      <td>GARY JIMENEZ</td>\n",
       "      <td>CAPTAIN III (POLICE DEPARTMENT)</td>\n",
       "      <td>155966.02</td>\n",
       "      <td>245131.88</td>\n",
       "      <td>137811.38</td>\n",
       "      <td>NaN</td>\n",
       "      <td>538909.28</td>\n",
       "      <td>538909.28</td>\n",
       "      <td>2011</td>\n",
       "      <td>NaN</td>\n",
       "      <td>San Francisco</td>\n",
       "      <td>NaN</td>\n",
       "    </tr>\n",
       "    <tr>\n",
       "      <th>2</th>\n",
       "      <td>3</td>\n",
       "      <td>ALBERT PARDINI</td>\n",
       "      <td>CAPTAIN III (POLICE DEPARTMENT)</td>\n",
       "      <td>212739.13</td>\n",
       "      <td>106088.18</td>\n",
       "      <td>16452.60</td>\n",
       "      <td>NaN</td>\n",
       "      <td>335279.91</td>\n",
       "      <td>335279.91</td>\n",
       "      <td>2011</td>\n",
       "      <td>NaN</td>\n",
       "      <td>San Francisco</td>\n",
       "      <td>NaN</td>\n",
       "    </tr>\n",
       "    <tr>\n",
       "      <th>3</th>\n",
       "      <td>4</td>\n",
       "      <td>CHRISTOPHER CHONG</td>\n",
       "      <td>WIRE ROPE CABLE MAINTENANCE MECHANIC</td>\n",
       "      <td>77916.00</td>\n",
       "      <td>56120.71</td>\n",
       "      <td>198306.90</td>\n",
       "      <td>NaN</td>\n",
       "      <td>332343.61</td>\n",
       "      <td>332343.61</td>\n",
       "      <td>2011</td>\n",
       "      <td>NaN</td>\n",
       "      <td>San Francisco</td>\n",
       "      <td>NaN</td>\n",
       "    </tr>\n",
       "    <tr>\n",
       "      <th>4</th>\n",
       "      <td>5</td>\n",
       "      <td>PATRICK GARDNER</td>\n",
       "      <td>DEPUTY CHIEF OF DEPARTMENT,(FIRE DEPARTMENT)</td>\n",
       "      <td>134401.60</td>\n",
       "      <td>9737.00</td>\n",
       "      <td>182234.59</td>\n",
       "      <td>NaN</td>\n",
       "      <td>326373.19</td>\n",
       "      <td>326373.19</td>\n",
       "      <td>2011</td>\n",
       "      <td>NaN</td>\n",
       "      <td>San Francisco</td>\n",
       "      <td>NaN</td>\n",
       "    </tr>\n",
       "    <tr>\n",
       "      <th>...</th>\n",
       "      <td>...</td>\n",
       "      <td>...</td>\n",
       "      <td>...</td>\n",
       "      <td>...</td>\n",
       "      <td>...</td>\n",
       "      <td>...</td>\n",
       "      <td>...</td>\n",
       "      <td>...</td>\n",
       "      <td>...</td>\n",
       "      <td>...</td>\n",
       "      <td>...</td>\n",
       "      <td>...</td>\n",
       "      <td>...</td>\n",
       "    </tr>\n",
       "    <tr>\n",
       "      <th>148643</th>\n",
       "      <td>148646</td>\n",
       "      <td>Carolyn A Wilson</td>\n",
       "      <td>Human Services Technician</td>\n",
       "      <td>0.00</td>\n",
       "      <td>0.00</td>\n",
       "      <td>0.00</td>\n",
       "      <td>0.0</td>\n",
       "      <td>0.00</td>\n",
       "      <td>0.00</td>\n",
       "      <td>2014</td>\n",
       "      <td>NaN</td>\n",
       "      <td>San Francisco</td>\n",
       "      <td>PT</td>\n",
       "    </tr>\n",
       "    <tr>\n",
       "      <th>148644</th>\n",
       "      <td>148648</td>\n",
       "      <td>Joann Anderson</td>\n",
       "      <td>Communications Dispatcher 2</td>\n",
       "      <td>0.00</td>\n",
       "      <td>0.00</td>\n",
       "      <td>0.00</td>\n",
       "      <td>0.0</td>\n",
       "      <td>0.00</td>\n",
       "      <td>0.00</td>\n",
       "      <td>2014</td>\n",
       "      <td>NaN</td>\n",
       "      <td>San Francisco</td>\n",
       "      <td>PT</td>\n",
       "    </tr>\n",
       "    <tr>\n",
       "      <th>148645</th>\n",
       "      <td>148649</td>\n",
       "      <td>Leon Walker</td>\n",
       "      <td>Custodian</td>\n",
       "      <td>0.00</td>\n",
       "      <td>0.00</td>\n",
       "      <td>0.00</td>\n",
       "      <td>0.0</td>\n",
       "      <td>0.00</td>\n",
       "      <td>0.00</td>\n",
       "      <td>2014</td>\n",
       "      <td>NaN</td>\n",
       "      <td>San Francisco</td>\n",
       "      <td>PT</td>\n",
       "    </tr>\n",
       "    <tr>\n",
       "      <th>148646</th>\n",
       "      <td>148650</td>\n",
       "      <td>Roy I Tillery</td>\n",
       "      <td>Custodian</td>\n",
       "      <td>0.00</td>\n",
       "      <td>0.00</td>\n",
       "      <td>0.00</td>\n",
       "      <td>0.0</td>\n",
       "      <td>0.00</td>\n",
       "      <td>0.00</td>\n",
       "      <td>2014</td>\n",
       "      <td>NaN</td>\n",
       "      <td>San Francisco</td>\n",
       "      <td>PT</td>\n",
       "    </tr>\n",
       "    <tr>\n",
       "      <th>148647</th>\n",
       "      <td>148654</td>\n",
       "      <td>Joe Lopez</td>\n",
       "      <td>Counselor, Log Cabin Ranch</td>\n",
       "      <td>0.00</td>\n",
       "      <td>0.00</td>\n",
       "      <td>-618.13</td>\n",
       "      <td>0.0</td>\n",
       "      <td>-618.13</td>\n",
       "      <td>-618.13</td>\n",
       "      <td>2014</td>\n",
       "      <td>NaN</td>\n",
       "      <td>San Francisco</td>\n",
       "      <td>PT</td>\n",
       "    </tr>\n",
       "  </tbody>\n",
       "</table>\n",
       "<p>148648 rows × 13 columns</p>\n",
       "</div>"
      ],
      "text/plain": [
       "            Id       EmployeeName  \\\n",
       "0            1     NATHANIEL FORD   \n",
       "1            2       GARY JIMENEZ   \n",
       "2            3     ALBERT PARDINI   \n",
       "3            4  CHRISTOPHER CHONG   \n",
       "4            5    PATRICK GARDNER   \n",
       "...        ...                ...   \n",
       "148643  148646   Carolyn A Wilson   \n",
       "148644  148648     Joann Anderson   \n",
       "148645  148649        Leon Walker   \n",
       "148646  148650      Roy I Tillery   \n",
       "148647  148654          Joe Lopez   \n",
       "\n",
       "                                              JobTitle    BasePay  \\\n",
       "0       GENERAL MANAGER-METROPOLITAN TRANSIT AUTHORITY  167411.18   \n",
       "1                      CAPTAIN III (POLICE DEPARTMENT)  155966.02   \n",
       "2                      CAPTAIN III (POLICE DEPARTMENT)  212739.13   \n",
       "3                 WIRE ROPE CABLE MAINTENANCE MECHANIC   77916.00   \n",
       "4         DEPUTY CHIEF OF DEPARTMENT,(FIRE DEPARTMENT)  134401.60   \n",
       "...                                                ...        ...   \n",
       "148643                       Human Services Technician       0.00   \n",
       "148644                     Communications Dispatcher 2       0.00   \n",
       "148645                                       Custodian       0.00   \n",
       "148646                                       Custodian       0.00   \n",
       "148647                      Counselor, Log Cabin Ranch       0.00   \n",
       "\n",
       "        OvertimePay   OtherPay  Benefits   TotalPay  TotalPayBenefits  Year  \\\n",
       "0              0.00  400184.25       NaN  567595.43         567595.43  2011   \n",
       "1         245131.88  137811.38       NaN  538909.28         538909.28  2011   \n",
       "2         106088.18   16452.60       NaN  335279.91         335279.91  2011   \n",
       "3          56120.71  198306.90       NaN  332343.61         332343.61  2011   \n",
       "4           9737.00  182234.59       NaN  326373.19         326373.19  2011   \n",
       "...             ...        ...       ...        ...               ...   ...   \n",
       "148643         0.00       0.00       0.0       0.00              0.00  2014   \n",
       "148644         0.00       0.00       0.0       0.00              0.00  2014   \n",
       "148645         0.00       0.00       0.0       0.00              0.00  2014   \n",
       "148646         0.00       0.00       0.0       0.00              0.00  2014   \n",
       "148647         0.00    -618.13       0.0    -618.13           -618.13  2014   \n",
       "\n",
       "        Notes         Agency Status  \n",
       "0         NaN  San Francisco    NaN  \n",
       "1         NaN  San Francisco    NaN  \n",
       "2         NaN  San Francisco    NaN  \n",
       "3         NaN  San Francisco    NaN  \n",
       "4         NaN  San Francisco    NaN  \n",
       "...       ...            ...    ...  \n",
       "148643    NaN  San Francisco     PT  \n",
       "148644    NaN  San Francisco     PT  \n",
       "148645    NaN  San Francisco     PT  \n",
       "148646    NaN  San Francisco     PT  \n",
       "148647    NaN  San Francisco     PT  \n",
       "\n",
       "[148648 rows x 13 columns]"
      ]
     },
     "metadata": {},
     "output_type": "display_data"
    }
   ],
   "source": [
    "salary = pd.read_csv('Salaries.csv')\n",
    "display (salary)"
   ]
  },
  {
   "cell_type": "code",
   "execution_count": 16,
   "id": "5bc7e05f-c63f-4bf1-aaaf-873e43814501",
   "metadata": {},
   "outputs": [
    {
     "data": {
      "text/html": [
       "<div>\n",
       "<style scoped>\n",
       "    .dataframe tbody tr th:only-of-type {\n",
       "        vertical-align: middle;\n",
       "    }\n",
       "\n",
       "    .dataframe tbody tr th {\n",
       "        vertical-align: top;\n",
       "    }\n",
       "\n",
       "    .dataframe thead th {\n",
       "        text-align: right;\n",
       "    }\n",
       "</style>\n",
       "<table border=\"1\" class=\"dataframe\">\n",
       "  <thead>\n",
       "    <tr style=\"text-align: right;\">\n",
       "      <th></th>\n",
       "      <th>Id</th>\n",
       "      <th>EmployeeName</th>\n",
       "      <th>JobTitle</th>\n",
       "      <th>BasePay</th>\n",
       "      <th>OvertimePay</th>\n",
       "      <th>OtherPay</th>\n",
       "      <th>Benefits</th>\n",
       "      <th>TotalPay</th>\n",
       "      <th>TotalPayBenefits</th>\n",
       "      <th>Year</th>\n",
       "      <th>Notes</th>\n",
       "      <th>Agency</th>\n",
       "      <th>Status</th>\n",
       "    </tr>\n",
       "  </thead>\n",
       "  <tbody>\n",
       "    <tr>\n",
       "      <th>0</th>\n",
       "      <td>1</td>\n",
       "      <td>NATHANIEL FORD</td>\n",
       "      <td>GENERAL MANAGER-METROPOLITAN TRANSIT AUTHORITY</td>\n",
       "      <td>167411.18</td>\n",
       "      <td>0.00</td>\n",
       "      <td>400184.25</td>\n",
       "      <td>NaN</td>\n",
       "      <td>567595.43</td>\n",
       "      <td>567595.43</td>\n",
       "      <td>2011</td>\n",
       "      <td>NaN</td>\n",
       "      <td>San Francisco</td>\n",
       "      <td>NaN</td>\n",
       "    </tr>\n",
       "    <tr>\n",
       "      <th>1</th>\n",
       "      <td>2</td>\n",
       "      <td>GARY JIMENEZ</td>\n",
       "      <td>CAPTAIN III (POLICE DEPARTMENT)</td>\n",
       "      <td>155966.02</td>\n",
       "      <td>245131.88</td>\n",
       "      <td>137811.38</td>\n",
       "      <td>NaN</td>\n",
       "      <td>538909.28</td>\n",
       "      <td>538909.28</td>\n",
       "      <td>2011</td>\n",
       "      <td>NaN</td>\n",
       "      <td>San Francisco</td>\n",
       "      <td>NaN</td>\n",
       "    </tr>\n",
       "    <tr>\n",
       "      <th>2</th>\n",
       "      <td>3</td>\n",
       "      <td>ALBERT PARDINI</td>\n",
       "      <td>CAPTAIN III (POLICE DEPARTMENT)</td>\n",
       "      <td>212739.13</td>\n",
       "      <td>106088.18</td>\n",
       "      <td>16452.60</td>\n",
       "      <td>NaN</td>\n",
       "      <td>335279.91</td>\n",
       "      <td>335279.91</td>\n",
       "      <td>2011</td>\n",
       "      <td>NaN</td>\n",
       "      <td>San Francisco</td>\n",
       "      <td>NaN</td>\n",
       "    </tr>\n",
       "    <tr>\n",
       "      <th>3</th>\n",
       "      <td>4</td>\n",
       "      <td>CHRISTOPHER CHONG</td>\n",
       "      <td>WIRE ROPE CABLE MAINTENANCE MECHANIC</td>\n",
       "      <td>77916.00</td>\n",
       "      <td>56120.71</td>\n",
       "      <td>198306.90</td>\n",
       "      <td>NaN</td>\n",
       "      <td>332343.61</td>\n",
       "      <td>332343.61</td>\n",
       "      <td>2011</td>\n",
       "      <td>NaN</td>\n",
       "      <td>San Francisco</td>\n",
       "      <td>NaN</td>\n",
       "    </tr>\n",
       "    <tr>\n",
       "      <th>4</th>\n",
       "      <td>5</td>\n",
       "      <td>PATRICK GARDNER</td>\n",
       "      <td>DEPUTY CHIEF OF DEPARTMENT,(FIRE DEPARTMENT)</td>\n",
       "      <td>134401.60</td>\n",
       "      <td>9737.00</td>\n",
       "      <td>182234.59</td>\n",
       "      <td>NaN</td>\n",
       "      <td>326373.19</td>\n",
       "      <td>326373.19</td>\n",
       "      <td>2011</td>\n",
       "      <td>NaN</td>\n",
       "      <td>San Francisco</td>\n",
       "      <td>NaN</td>\n",
       "    </tr>\n",
       "  </tbody>\n",
       "</table>\n",
       "</div>"
      ],
      "text/plain": [
       "   Id       EmployeeName                                        JobTitle  \\\n",
       "0   1     NATHANIEL FORD  GENERAL MANAGER-METROPOLITAN TRANSIT AUTHORITY   \n",
       "1   2       GARY JIMENEZ                 CAPTAIN III (POLICE DEPARTMENT)   \n",
       "2   3     ALBERT PARDINI                 CAPTAIN III (POLICE DEPARTMENT)   \n",
       "3   4  CHRISTOPHER CHONG            WIRE ROPE CABLE MAINTENANCE MECHANIC   \n",
       "4   5    PATRICK GARDNER    DEPUTY CHIEF OF DEPARTMENT,(FIRE DEPARTMENT)   \n",
       "\n",
       "     BasePay  OvertimePay   OtherPay  Benefits   TotalPay  TotalPayBenefits  \\\n",
       "0  167411.18         0.00  400184.25       NaN  567595.43         567595.43   \n",
       "1  155966.02    245131.88  137811.38       NaN  538909.28         538909.28   \n",
       "2  212739.13    106088.18   16452.60       NaN  335279.91         335279.91   \n",
       "3   77916.00     56120.71  198306.90       NaN  332343.61         332343.61   \n",
       "4  134401.60      9737.00  182234.59       NaN  326373.19         326373.19   \n",
       "\n",
       "   Year  Notes         Agency Status  \n",
       "0  2011    NaN  San Francisco    NaN  \n",
       "1  2011    NaN  San Francisco    NaN  \n",
       "2  2011    NaN  San Francisco    NaN  \n",
       "3  2011    NaN  San Francisco    NaN  \n",
       "4  2011    NaN  San Francisco    NaN  "
      ]
     },
     "metadata": {},
     "output_type": "display_data"
    }
   ],
   "source": [
    "# Data Checks\n",
    "\n",
    "display(salary.head())"
   ]
  },
  {
   "cell_type": "code",
   "execution_count": 18,
   "id": "7a20ee86-2e48-46cd-8377-316e0501ad20",
   "metadata": {},
   "outputs": [
    {
     "name": "stdout",
     "output_type": "stream",
     "text": [
      "<class 'pandas.core.frame.DataFrame'>\n",
      "RangeIndex: 148648 entries, 0 to 148647\n",
      "Data columns (total 13 columns):\n",
      " #   Column            Non-Null Count   Dtype  \n",
      "---  ------            --------------   -----  \n",
      " 0   Id                148648 non-null  int64  \n",
      " 1   EmployeeName      148648 non-null  object \n",
      " 2   JobTitle          148648 non-null  object \n",
      " 3   BasePay           148043 non-null  float64\n",
      " 4   OvertimePay       148648 non-null  float64\n",
      " 5   OtherPay          148648 non-null  float64\n",
      " 6   Benefits          112490 non-null  float64\n",
      " 7   TotalPay          148648 non-null  float64\n",
      " 8   TotalPayBenefits  148648 non-null  float64\n",
      " 9   Year              148648 non-null  int64  \n",
      " 10  Notes             0 non-null       float64\n",
      " 11  Agency            148648 non-null  object \n",
      " 12  Status            38119 non-null   object \n",
      "dtypes: float64(7), int64(2), object(4)\n",
      "memory usage: 14.7+ MB\n",
      "None\n"
     ]
    }
   ],
   "source": [
    "print(salary.info())"
   ]
  },
  {
   "cell_type": "code",
   "execution_count": 20,
   "id": "1f7fb25e-1300-478e-8d36-d69a6ffadf4d",
   "metadata": {},
   "outputs": [
    {
     "data": {
      "text/html": [
       "<div>\n",
       "<style scoped>\n",
       "    .dataframe tbody tr th:only-of-type {\n",
       "        vertical-align: middle;\n",
       "    }\n",
       "\n",
       "    .dataframe tbody tr th {\n",
       "        vertical-align: top;\n",
       "    }\n",
       "\n",
       "    .dataframe thead th {\n",
       "        text-align: right;\n",
       "    }\n",
       "</style>\n",
       "<table border=\"1\" class=\"dataframe\">\n",
       "  <thead>\n",
       "    <tr style=\"text-align: right;\">\n",
       "      <th></th>\n",
       "      <th>Id</th>\n",
       "      <th>BasePay</th>\n",
       "      <th>OvertimePay</th>\n",
       "      <th>OtherPay</th>\n",
       "      <th>Benefits</th>\n",
       "      <th>TotalPay</th>\n",
       "      <th>TotalPayBenefits</th>\n",
       "      <th>Year</th>\n",
       "      <th>Notes</th>\n",
       "    </tr>\n",
       "  </thead>\n",
       "  <tbody>\n",
       "    <tr>\n",
       "      <th>count</th>\n",
       "      <td>148648.000000</td>\n",
       "      <td>148043.000000</td>\n",
       "      <td>148648.000000</td>\n",
       "      <td>148648.000000</td>\n",
       "      <td>112490.000000</td>\n",
       "      <td>148648.000000</td>\n",
       "      <td>148648.000000</td>\n",
       "      <td>148648.000000</td>\n",
       "      <td>0.0</td>\n",
       "    </tr>\n",
       "    <tr>\n",
       "      <th>mean</th>\n",
       "      <td>74326.110220</td>\n",
       "      <td>66325.398119</td>\n",
       "      <td>5065.821161</td>\n",
       "      <td>3648.761721</td>\n",
       "      <td>25007.777439</td>\n",
       "      <td>74770.035453</td>\n",
       "      <td>93694.776345</td>\n",
       "      <td>2012.522617</td>\n",
       "      <td>NaN</td>\n",
       "    </tr>\n",
       "    <tr>\n",
       "      <th>std</th>\n",
       "      <td>42911.633315</td>\n",
       "      <td>42764.898947</td>\n",
       "      <td>11454.266982</td>\n",
       "      <td>8056.655841</td>\n",
       "      <td>15402.235424</td>\n",
       "      <td>50516.440633</td>\n",
       "      <td>62792.743250</td>\n",
       "      <td>1.117526</td>\n",
       "      <td>NaN</td>\n",
       "    </tr>\n",
       "    <tr>\n",
       "      <th>min</th>\n",
       "      <td>1.000000</td>\n",
       "      <td>-166.010000</td>\n",
       "      <td>-0.010000</td>\n",
       "      <td>-7058.590000</td>\n",
       "      <td>-33.890000</td>\n",
       "      <td>-618.130000</td>\n",
       "      <td>-618.130000</td>\n",
       "      <td>2011.000000</td>\n",
       "      <td>NaN</td>\n",
       "    </tr>\n",
       "    <tr>\n",
       "      <th>25%</th>\n",
       "      <td>37163.750000</td>\n",
       "      <td>33587.350000</td>\n",
       "      <td>0.000000</td>\n",
       "      <td>0.000000</td>\n",
       "      <td>11535.192500</td>\n",
       "      <td>36169.370000</td>\n",
       "      <td>44072.062500</td>\n",
       "      <td>2012.000000</td>\n",
       "      <td>NaN</td>\n",
       "    </tr>\n",
       "    <tr>\n",
       "      <th>50%</th>\n",
       "      <td>74326.500000</td>\n",
       "      <td>65007.450000</td>\n",
       "      <td>0.000000</td>\n",
       "      <td>811.205000</td>\n",
       "      <td>28628.365000</td>\n",
       "      <td>71427.130000</td>\n",
       "      <td>92406.020000</td>\n",
       "      <td>2013.000000</td>\n",
       "      <td>NaN</td>\n",
       "    </tr>\n",
       "    <tr>\n",
       "      <th>75%</th>\n",
       "      <td>111488.250000</td>\n",
       "      <td>94691.050000</td>\n",
       "      <td>4657.597500</td>\n",
       "      <td>4236.035000</td>\n",
       "      <td>35566.790000</td>\n",
       "      <td>105840.920000</td>\n",
       "      <td>132876.997500</td>\n",
       "      <td>2014.000000</td>\n",
       "      <td>NaN</td>\n",
       "    </tr>\n",
       "    <tr>\n",
       "      <th>max</th>\n",
       "      <td>148654.000000</td>\n",
       "      <td>319275.010000</td>\n",
       "      <td>245131.880000</td>\n",
       "      <td>400184.250000</td>\n",
       "      <td>96570.660000</td>\n",
       "      <td>567595.430000</td>\n",
       "      <td>567595.430000</td>\n",
       "      <td>2014.000000</td>\n",
       "      <td>NaN</td>\n",
       "    </tr>\n",
       "  </tbody>\n",
       "</table>\n",
       "</div>"
      ],
      "text/plain": [
       "                  Id        BasePay    OvertimePay       OtherPay  \\\n",
       "count  148648.000000  148043.000000  148648.000000  148648.000000   \n",
       "mean    74326.110220   66325.398119    5065.821161    3648.761721   \n",
       "std     42911.633315   42764.898947   11454.266982    8056.655841   \n",
       "min         1.000000    -166.010000      -0.010000   -7058.590000   \n",
       "25%     37163.750000   33587.350000       0.000000       0.000000   \n",
       "50%     74326.500000   65007.450000       0.000000     811.205000   \n",
       "75%    111488.250000   94691.050000    4657.597500    4236.035000   \n",
       "max    148654.000000  319275.010000  245131.880000  400184.250000   \n",
       "\n",
       "            Benefits       TotalPay  TotalPayBenefits           Year  Notes  \n",
       "count  112490.000000  148648.000000     148648.000000  148648.000000    0.0  \n",
       "mean    25007.777439   74770.035453      93694.776345    2012.522617    NaN  \n",
       "std     15402.235424   50516.440633      62792.743250       1.117526    NaN  \n",
       "min       -33.890000    -618.130000       -618.130000    2011.000000    NaN  \n",
       "25%     11535.192500   36169.370000      44072.062500    2012.000000    NaN  \n",
       "50%     28628.365000   71427.130000      92406.020000    2013.000000    NaN  \n",
       "75%     35566.790000  105840.920000     132876.997500    2014.000000    NaN  \n",
       "max     96570.660000  567595.430000     567595.430000    2014.000000    NaN  "
      ]
     },
     "metadata": {},
     "output_type": "display_data"
    }
   ],
   "source": [
    "display(salary.describe())"
   ]
  },
  {
   "cell_type": "code",
   "execution_count": 22,
   "id": "37310a71-605a-48ef-917c-146d4a4e9ca9",
   "metadata": {},
   "outputs": [
    {
     "name": "stdout",
     "output_type": "stream",
     "text": [
      "Year\n",
      "2011    2.594113e+09\n",
      "2012    3.696790e+09\n",
      "2013    3.814772e+09\n",
      "2014    3.821866e+09\n",
      "Name: TotalPayBenefits, dtype: float64\n"
     ]
    }
   ],
   "source": [
    "# Total Salary by year\n",
    "sum_year=salary.groupby('Year')['TotalPayBenefits'].sum()\n",
    "print(sum_year)"
   ]
  },
  {
   "cell_type": "code",
   "execution_count": 24,
   "id": "cfdcee64-201b-4056-befc-10087beb9dc3",
   "metadata": {},
   "outputs": [
    {
     "name": "stdout",
     "output_type": "stream",
     "text": [
      "Year\n",
      "2011     71743.819645\n",
      "2012    100551.886807\n",
      "2013    101440.519714\n",
      "2014    100261.438668\n",
      "Name: TotalPayBenefits, dtype: float64\n"
     ]
    }
   ],
   "source": [
    "# Salary cost has increased from year 2011 to 2014\n",
    "\n",
    "mean_year=salary.groupby('Year')['TotalPayBenefits'].mean()\n",
    "print(mean_year)"
   ]
  },
  {
   "cell_type": "markdown",
   "id": "0ec1e329-f394-4846-b5d3-62cf13c6ddd7",
   "metadata": {},
   "source": [
    "#### 2) Which Job Title in Year 2014 has highest mean salary?"
   ]
  },
  {
   "cell_type": "code",
   "execution_count": 27,
   "id": "ddffcff0-a4d0-4c32-9291-a5f250f358d3",
   "metadata": {},
   "outputs": [
    {
     "name": "stdout",
     "output_type": "stream",
     "text": [
      "Year  JobTitle                      \n",
      "2011  ACCOUNT CLERK                      44035.664337\n",
      "      ACCOUNTANT                         47429.268000\n",
      "      ACCOUNTANT INTERN                  29031.742917\n",
      "      ACUPUNCTURIST                      67594.400000\n",
      "      ADMINISTRATIVE ANALYST             63954.867527\n",
      "                                            ...      \n",
      "2014  Wire Rope Cable Maint Sprv        228338.090000\n",
      "      Worker's Comp Supervisor 1         76964.451667\n",
      "      Worker's Compensation Adjuster     97213.493846\n",
      "      X-Ray Laboratory Aide              68754.120000\n",
      "      Youth Comm Advisor                 52011.190000\n",
      "Name: TotalPayBenefits, Length: 4136, dtype: float64\n"
     ]
    }
   ],
   "source": [
    "# Display average salary for all years\n",
    "\n",
    "mean_title_year=salary.groupby(['Year','JobTitle'])['TotalPayBenefits'].mean()\n",
    "print(mean_title_year)"
   ]
  },
  {
   "cell_type": "code",
   "execution_count": 29,
   "id": "6371c5fb-fb2f-43fc-95ae-cade24f69f79",
   "metadata": {},
   "outputs": [
    {
     "name": "stdout",
     "output_type": "stream",
     "text": [
      "                          TotalPayBenefits\n",
      "JobTitle                                  \n",
      "Chief Investment Officer         436224.36\n"
     ]
    }
   ],
   "source": [
    "# Filter the salary for 2014,find the average, and display the maximum mean value\n",
    "\n",
    "df_g = salary.query('Year == 2014') #getting 2014\n",
    "df_g = df_g.filter(['JobTitle', 'TotalPayBenefits'])\n",
    "maxi=df_g.groupby('JobTitle').mean()\n",
    "highest_Salary = maxi[maxi[\"TotalPayBenefits\"]== maxi[\"TotalPayBenefits\"].max()]\n",
    "print(highest_Salary)"
   ]
  },
  {
   "cell_type": "markdown",
   "id": "9c83a07d-7f9e-47df-8342-210c8af9d8c3",
   "metadata": {},
   "source": [
    "#### 3) How much money could have been saved in Year 2014 by stopping OverTimePay?"
   ]
  },
  {
   "cell_type": "code",
   "execution_count": 35,
   "id": "1276b544-9a8d-4d36-846c-f56012147ed0",
   "metadata": {},
   "outputs": [
    {
     "name": "stdout",
     "output_type": "stream",
     "text": [
      "Year\n",
      "2011    1.638191e+08\n",
      "2012    1.846650e+08\n",
      "2013    1.986214e+08\n",
      "2014    2.059186e+08\n",
      "Name: OvertimePay, dtype: float64\n"
     ]
    }
   ],
   "source": [
    "over_time_pay_year = salary.groupby('Year')['OvertimePay'].sum()\n",
    "print ( over_time_pay_year)"
   ]
  },
  {
   "cell_type": "markdown",
   "id": "ee9b4004-8366-4b08-bac2-cbc5718236d1",
   "metadata": {},
   "source": [
    "#### 4) Which are the top 5 common job in Year 2014 and how much do they cost SFO?"
   ]
  },
  {
   "cell_type": "code",
   "execution_count": 38,
   "id": "684b45d5-85bb-4d6c-8e84-291f6b3bdb0b",
   "metadata": {},
   "outputs": [
    {
     "name": "stdout",
     "output_type": "stream",
     "text": [
      "JobTitle\n",
      "Transit Operator                2479\n",
      "Special Nurse                   1478\n",
      "Registered Nurse                1234\n",
      "Public Svc Aide-Public Works     916\n",
      "Firefighter                      815\n",
      "Name: count, dtype: int64\n"
     ]
    }
   ],
   "source": [
    "top_job_title = salary[salary['Year'] == 2014]['JobTitle'].value_counts().head(5)\n",
    "\n",
    "print (top_job_title)"
   ]
  },
  {
   "cell_type": "code",
   "execution_count": 40,
   "id": "a1220837-449c-4812-aa97-23121812f1b4",
   "metadata": {},
   "outputs": [
    {
     "name": "stdout",
     "output_type": "stream",
     "text": [
      "Transit Operator 2479\n",
      "Special Nurse 1478\n",
      "Registered Nurse 1234\n",
      "Public Svc Aide-Public Works 916\n",
      "Firefighter 815\n",
      " Total Cost of Top 5 Jobs in Year 2014  610269227.66\n"
     ]
    }
   ],
   "source": [
    "# Calculate Cost \n",
    "sum_cost = 0\n",
    "for index,value in top_job_title.items():\n",
    "    print(index,value)\n",
    "    sum_cost += sum(salary[ (salary['Year']== 2014) & (salary['JobTitle'] == index)]['TotalPayBenefits'])\n",
    "\n",
    "print (\" Total Cost of Top 5 Jobs in Year 2014 \", sum_cost)"
   ]
  },
  {
   "cell_type": "markdown",
   "id": "b5c128e1-5430-4f23-a6ab-9a82891d8a2e",
   "metadata": {},
   "source": [
    "#### 5) Who was the top earning employee across all the years?"
   ]
  },
  {
   "cell_type": "code",
   "execution_count": 44,
   "id": "3a50bfc7-b074-44e8-840a-daebde81da89",
   "metadata": {},
   "outputs": [
    {
     "name": "stdout",
     "output_type": "stream",
     "text": [
      "EmployeeName\n",
      "Kevin Lee             1778487.17\n",
      "Steven Lee            1706550.76\n",
      "William Wong          1459954.17\n",
      "Stanley Lee           1457279.68\n",
      "Richard Lee           1268668.84\n",
      "                         ...    \n",
      "Charlene D Mccully          0.00\n",
      "Timothy E Gibson           -2.73\n",
      "Mark E Laherty             -8.20\n",
      "David P Kucia             -33.89\n",
      "Joe Lopez                -618.13\n",
      "Name: TotalPayBenefits, Length: 110809, dtype: float64\n"
     ]
    }
   ],
   "source": [
    "top_sal = salary.groupby('EmployeeName').sum()['TotalPayBenefits']\n",
    "print((top_sal.sort_values(axis=0,ascending = False)))"
   ]
  },
  {
   "cell_type": "code",
   "execution_count": null,
   "id": "1a69274b-0a20-4d77-9c9b-aea90fcf1890",
   "metadata": {},
   "outputs": [],
   "source": []
  },
  {
   "cell_type": "code",
   "execution_count": null,
   "id": "6f88a871-1939-4a5b-85da-fb7a6f3531c6",
   "metadata": {},
   "outputs": [],
   "source": []
  }
 ],
 "metadata": {
  "kernelspec": {
   "display_name": "Python 3 (ipykernel)",
   "language": "python",
   "name": "python3"
  },
  "language_info": {
   "codemirror_mode": {
    "name": "ipython",
    "version": 3
   },
   "file_extension": ".py",
   "mimetype": "text/x-python",
   "name": "python",
   "nbconvert_exporter": "python",
   "pygments_lexer": "ipython3",
   "version": "3.12.4"
  }
 },
 "nbformat": 4,
 "nbformat_minor": 5
}
